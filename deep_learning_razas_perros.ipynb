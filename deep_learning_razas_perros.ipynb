{
 "cells": [
  {
   "cell_type": "code",
   "execution_count": 1,
   "metadata": {},
   "outputs": [
    {
     "name": "stderr",
     "output_type": "stream",
     "text": [
      "/anaconda3/lib/python3.6/site-packages/h5py/__init__.py:36: FutureWarning: Conversion of the second argument of issubdtype from `float` to `np.floating` is deprecated. In future, it will be treated as `np.float64 == np.dtype(float).type`.\n",
      "  from ._conv import register_converters as _register_converters\n"
     ]
    }
   ],
   "source": [
    "import sys\n",
    "import os\n",
    "import pandas as pd\n",
    "import numpy as np\n",
    "import tensorflow as tf\n",
    "from tensorflow.python.keras import preprocessing\n",
    "from tensorflow.python.keras.preprocessing.image import ImageDataGenerator\n",
    "from tensorflow.python.keras import optimizers\n",
    "from tensorflow.python.keras.models import Sequential\n",
    "from tensorflow.python.keras.layers import InputLayer,Reshape, Conv2D, Dropout,Activation,Flatten,Dense, Convolution2D, MaxPooling2D\n",
    "from tensorflow.python.keras import backend as k\n",
    "import matplotlib.pyplot as plt\n",
    "# from tensorflow.python.keras\n",
    "# %matplotlib inline\n",
    "# import cv2"
   ]
  },
  {
   "cell_type": "code",
   "execution_count": 2,
   "metadata": {},
   "outputs": [],
   "source": [
    "# importar los datos"
   ]
  },
  {
   "cell_type": "code",
   "execution_count": 3,
   "metadata": {},
   "outputs": [],
   "source": [
    "k.clear_session() # limpiar las sessiones que puedan estar corriendo en backgraound"
   ]
  },
  {
   "cell_type": "code",
   "execution_count": 4,
   "metadata": {},
   "outputs": [],
   "source": [
    "entrenamiento = './dataset/entrenamiento'\n",
    "validacion = './dataset/validacion'"
   ]
  },
  {
   "cell_type": "code",
   "execution_count": 5,
   "metadata": {},
   "outputs": [],
   "source": [
    "img_train = preprocessing.image.list_pictures(entrenamiento)\n",
    "img_validation =  preprocessing.image.list_pictures(validacion)\n",
    "arr_img = []"
   ]
  },
  {
   "cell_type": "code",
   "execution_count": 6,
   "metadata": {},
   "outputs": [],
   "source": [
    "entrenamiento_labels = img_train\n",
    "validacion_labels = img_validation"
   ]
  },
  {
   "cell_type": "code",
   "execution_count": 7,
   "metadata": {},
   "outputs": [],
   "source": [
    "def categorical2Numeric(df,variable):\n",
    "    x =0\n",
    "    d = pd.Series()\n",
    "#     print(d)\n",
    "    array =[]\n",
    "    for d in df[variable].unique():\n",
    "        x+=1\n",
    "        array.append(x)\n",
    "    serie_prod = pd.Series(data=array,index=df[variable].unique())\n",
    "#     print(df[variable].unique())\n",
    "#     print(serie_prod)\n",
    "    df['Raza_id'] = df[variable].map(serie_prod)"
   ]
  },
  {
   "cell_type": "code",
   "execution_count": 8,
   "metadata": {},
   "outputs": [
    {
     "data": {
      "text/plain": [
       "['Chihuahua',\n",
       " 'Japanese_spaniel',\n",
       " 'Maltese_dog',\n",
       " 'Pekinese',\n",
       " 'Shih',\n",
       " 'Blenheim_spaniel',\n",
       " 'papillon',\n",
       " 'toy_terrier',\n",
       " 'Rhodesian_ridgeback',\n",
       " 'Afghan_hound',\n",
       " 'basset',\n",
       " 'beagle',\n",
       " 'bloodhound',\n",
       " 'bluetick',\n",
       " 'black',\n",
       " 'Walker_hound',\n",
       " 'English_foxhound',\n",
       " 'redbone',\n",
       " 'borzoi',\n",
       " 'Irish_wolfhound',\n",
       " 'Italian_greyhound',\n",
       " 'whippet',\n",
       " 'Ibizan_hound',\n",
       " 'Norwegian_elkhound',\n",
       " 'otterhound',\n",
       " 'Saluki',\n",
       " 'Scottish_deerhound',\n",
       " 'Weimaraner',\n",
       " 'Staffordshire_bullterrier',\n",
       " 'American_Staffordshire_terrier',\n",
       " 'Bedlington_terrier',\n",
       " 'Border_terrier',\n",
       " 'Kerry_blue_terrier',\n",
       " 'Irish_terrier',\n",
       " 'Norfolk_terrier',\n",
       " 'Norwich_terrier',\n",
       " 'Yorkshire_terrier',\n",
       " 'wire',\n",
       " 'Lakeland_terrier',\n",
       " 'Sealyham_terrier',\n",
       " 'Airedale',\n",
       " 'cairn',\n",
       " 'Australian_terrier',\n",
       " 'Dandie_Dinmont',\n",
       " 'Boston_bull',\n",
       " 'miniature_schnauzer',\n",
       " 'giant_schnauzer',\n",
       " 'standard_schnauzer',\n",
       " 'Scotch_terrier',\n",
       " 'Tibetan_terrier',\n",
       " 'silky_terrier',\n",
       " 'soft',\n",
       " 'West_Highland_white_terrier',\n",
       " 'Lhasa',\n",
       " 'flat',\n",
       " 'curly',\n",
       " 'golden_retriever',\n",
       " 'Labrador_retriever',\n",
       " 'Chesapeake_Bay_retriever',\n",
       " 'German_short',\n",
       " 'vizsla',\n",
       " 'English_setter',\n",
       " 'Irish_setter',\n",
       " 'Gordon_setter',\n",
       " 'Brittany_spaniel',\n",
       " 'clumber',\n",
       " 'English_springer',\n",
       " 'Welsh_springer_spaniel',\n",
       " 'cocker_spaniel',\n",
       " 'Sussex_spaniel',\n",
       " 'Irish_water_spaniel',\n",
       " 'kuvasz',\n",
       " 'schipperke',\n",
       " 'groenendael',\n",
       " 'malinois',\n",
       " 'briard',\n",
       " 'kelpie',\n",
       " 'komondor',\n",
       " 'Old_English_sheepdog',\n",
       " 'Shetland_sheepdog',\n",
       " 'collie',\n",
       " 'Border_collie',\n",
       " 'Bouvier_des_Flandres',\n",
       " 'Rottweiler',\n",
       " 'German_shepherd',\n",
       " 'Doberman',\n",
       " 'miniature_pinscher',\n",
       " 'Greater_Swiss_Mountain_dog',\n",
       " 'Bernese_mountain_dog',\n",
       " 'Appenzeller',\n",
       " 'EntleBucher',\n",
       " 'boxer',\n",
       " 'bull_mastiff',\n",
       " 'Tibetan_mastiff',\n",
       " 'French_bulldog',\n",
       " 'Great_Dane',\n",
       " 'Saint_Bernard',\n",
       " 'Eskimo_dog',\n",
       " 'malamute',\n",
       " 'Siberian_husky',\n",
       " 'affenpinscher',\n",
       " 'basenji',\n",
       " 'pug',\n",
       " 'Leonberg',\n",
       " 'Newfoundland',\n",
       " 'Great_Pyrenees',\n",
       " 'Samoyed',\n",
       " 'Pomeranian',\n",
       " 'chow',\n",
       " 'keeshond',\n",
       " 'Brabancon_griffon',\n",
       " 'Pembroke',\n",
       " 'Cardigan',\n",
       " 'toy_poodle',\n",
       " 'miniature_poodle',\n",
       " 'standard_poodle',\n",
       " 'Mexican_hairless',\n",
       " 'dingo',\n",
       " 'dhole',\n",
       " 'African_hunting_dog']"
      ]
     },
     "execution_count": 8,
     "metadata": {},
     "output_type": "execute_result"
    }
   ],
   "source": [
    "\n",
    "train_labels =[]\n",
    "i=0\n",
    "for x in entrenamiento_labels:\n",
    "   \n",
    "    train_labels.append(x.split('/')[3].split('-')[:2])\n",
    "labels = pd.DataFrame(train_labels,columns=['Raza_code','Raza']) \n",
    "categorical2Numeric(labels,'Raza')\n",
    "\n",
    "clases = labels['Raza'].drop_duplicates()\n",
    "clt = list(clases)\n",
    "clt"
   ]
  },
  {
   "cell_type": "code",
   "execution_count": 9,
   "metadata": {},
   "outputs": [],
   "source": [
    "\n",
    "test_labels =[]\n",
    "i=0\n",
    "for x in validacion_labels:\n",
    "   \n",
    "    test_labels.append(x.split('/')[3].split('-')[:2])\n",
    "labels_test = pd.DataFrame(test_labels,columns=['Raza_code','Raza']) \n",
    "categorical2Numeric(labels_test,'Raza')"
   ]
  },
  {
   "cell_type": "code",
   "execution_count": 10,
   "metadata": {},
   "outputs": [
    {
     "data": {
      "text/html": [
       "<div>\n",
       "<style scoped>\n",
       "    .dataframe tbody tr th:only-of-type {\n",
       "        vertical-align: middle;\n",
       "    }\n",
       "\n",
       "    .dataframe tbody tr th {\n",
       "        vertical-align: top;\n",
       "    }\n",
       "\n",
       "    .dataframe thead th {\n",
       "        text-align: right;\n",
       "    }\n",
       "</style>\n",
       "<table border=\"1\" class=\"dataframe\">\n",
       "  <thead>\n",
       "    <tr style=\"text-align: right;\">\n",
       "      <th></th>\n",
       "      <th>Raza_code</th>\n",
       "      <th>Raza</th>\n",
       "      <th>Raza_id</th>\n",
       "    </tr>\n",
       "  </thead>\n",
       "  <tbody>\n",
       "    <tr>\n",
       "      <th>0</th>\n",
       "      <td>n02085620</td>\n",
       "      <td>Chihuahua</td>\n",
       "      <td>1</td>\n",
       "    </tr>\n",
       "    <tr>\n",
       "      <th>1</th>\n",
       "      <td>n02085620</td>\n",
       "      <td>Chihuahua</td>\n",
       "      <td>1</td>\n",
       "    </tr>\n",
       "    <tr>\n",
       "      <th>2</th>\n",
       "      <td>n02085620</td>\n",
       "      <td>Chihuahua</td>\n",
       "      <td>1</td>\n",
       "    </tr>\n",
       "    <tr>\n",
       "      <th>3</th>\n",
       "      <td>n02085620</td>\n",
       "      <td>Chihuahua</td>\n",
       "      <td>1</td>\n",
       "    </tr>\n",
       "    <tr>\n",
       "      <th>4</th>\n",
       "      <td>n02085620</td>\n",
       "      <td>Chihuahua</td>\n",
       "      <td>1</td>\n",
       "    </tr>\n",
       "    <tr>\n",
       "      <th>5</th>\n",
       "      <td>n02085620</td>\n",
       "      <td>Chihuahua</td>\n",
       "      <td>1</td>\n",
       "    </tr>\n",
       "    <tr>\n",
       "      <th>6</th>\n",
       "      <td>n02085620</td>\n",
       "      <td>Chihuahua</td>\n",
       "      <td>1</td>\n",
       "    </tr>\n",
       "    <tr>\n",
       "      <th>7</th>\n",
       "      <td>n02085620</td>\n",
       "      <td>Chihuahua</td>\n",
       "      <td>1</td>\n",
       "    </tr>\n",
       "    <tr>\n",
       "      <th>8</th>\n",
       "      <td>n02085620</td>\n",
       "      <td>Chihuahua</td>\n",
       "      <td>1</td>\n",
       "    </tr>\n",
       "    <tr>\n",
       "      <th>9</th>\n",
       "      <td>n02085620</td>\n",
       "      <td>Chihuahua</td>\n",
       "      <td>1</td>\n",
       "    </tr>\n",
       "  </tbody>\n",
       "</table>\n",
       "</div>"
      ],
      "text/plain": [
       "   Raza_code       Raza  Raza_id\n",
       "0  n02085620  Chihuahua        1\n",
       "1  n02085620  Chihuahua        1\n",
       "2  n02085620  Chihuahua        1\n",
       "3  n02085620  Chihuahua        1\n",
       "4  n02085620  Chihuahua        1\n",
       "5  n02085620  Chihuahua        1\n",
       "6  n02085620  Chihuahua        1\n",
       "7  n02085620  Chihuahua        1\n",
       "8  n02085620  Chihuahua        1\n",
       "9  n02085620  Chihuahua        1"
      ]
     },
     "execution_count": 10,
     "metadata": {},
     "output_type": "execute_result"
    }
   ],
   "source": [
    "\n",
    "labels.head(10)"
   ]
  },
  {
   "cell_type": "code",
   "execution_count": null,
   "metadata": {},
   "outputs": [],
   "source": []
  },
  {
   "cell_type": "code",
   "execution_count": 11,
   "metadata": {},
   "outputs": [],
   "source": [
    "# for img in img_train:\n",
    "#     img_loade = preprocessing.image.load_img(img,(100,100))\n",
    "#     arr_img.append(preprocessing.image.img_to_array(img_loade))"
   ]
  },
  {
   "cell_type": "code",
   "execution_count": 12,
   "metadata": {},
   "outputs": [],
   "source": [
    "array_img = preprocessing.image.load_img(img_train[2],(100,100))"
   ]
  },
  {
   "cell_type": "code",
   "execution_count": 13,
   "metadata": {},
   "outputs": [],
   "source": [
    "# array_img"
   ]
  },
  {
   "cell_type": "code",
   "execution_count": 14,
   "metadata": {},
   "outputs": [
    {
     "data": {
      "text/plain": [
       "['./dataset/entrenamiento/n02085620-Chihuahua/n02085620_10074.jpg',\n",
       " './dataset/entrenamiento/n02085620-Chihuahua/n02085620_10131.jpg',\n",
       " './dataset/entrenamiento/n02085620-Chihuahua/n02085620_10621.jpg',\n",
       " './dataset/entrenamiento/n02085620-Chihuahua/n02085620_10976.jpg',\n",
       " './dataset/entrenamiento/n02085620-Chihuahua/n02085620_11140.jpg',\n",
       " './dataset/entrenamiento/n02085620-Chihuahua/n02085620_11238.jpg',\n",
       " './dataset/entrenamiento/n02085620-Chihuahua/n02085620_11258.jpg',\n",
       " './dataset/entrenamiento/n02085620-Chihuahua/n02085620_11337.jpg',\n",
       " './dataset/entrenamiento/n02085620-Chihuahua/n02085620_11477.jpg',\n",
       " './dataset/entrenamiento/n02085620-Chihuahua/n02085620_11696.jpg']"
      ]
     },
     "execution_count": 14,
     "metadata": {},
     "output_type": "execute_result"
    }
   ],
   "source": [
    "img_train[:10]\n"
   ]
  },
  {
   "cell_type": "markdown",
   "metadata": {},
   "source": [
    "####  Hiperparametros"
   ]
  },
  {
   "cell_type": "code",
   "execution_count": 15,
   "metadata": {},
   "outputs": [],
   "source": [
    "epocas = 25 # cantidad de veces que vamos a iterar nuestra red neuronal para su entrenamiento\n",
    "altura, longitud = 100,100 # dimenciones que vamos a poner a nuestras imagenes antes de ser entrenadas\n",
    "imagen_full = (altura,longitud,3)\n",
    "imagen_plana = altura * longitud\n",
    "batch_size = 35 # numero de imagenes que vamos a mandar a procesar por etapas\n",
    "pasos = 2000 # numero de pasos en cada epoca es ddecir una epoca va a tener 1000 pasos\n",
    "pasos_validacion =200 #al final de cada epoca se cojen 200 ultimos pasos para la validacion\n",
    "filtro_convolucion1 = 32\n",
    "filtro_convolucion2 = 64\n",
    "tamano_filtro1 = (3,3)\n",
    "tamano_filtro2 =(2,2)\n",
    "tamano_poolint = (2,2)\n",
    "clases = 120\n",
    "grado_aprendizaje =0.05\n",
    "\n"
   ]
  },
  {
   "cell_type": "code",
   "execution_count": 16,
   "metadata": {},
   "outputs": [],
   "source": [
    "# preprocesamiento de las imagenes"
   ]
  },
  {
   "cell_type": "code",
   "execution_count": 17,
   "metadata": {},
   "outputs": [],
   "source": [
    "entrenamiento_data = ImageDataGenerator(\n",
    "rescale= 1./255,# rescalar las imaneges entre 0 y1\n",
    "shear_range=0.3,# inclinar las imagenes para el algoritmo aprenda a reconocer en diferentes posiciones\n",
    "zoom_range=0.3,# va a hacer zoom en algunas imagenes para que aprenda a reconocer partes del perro\n",
    "horizontal_flip = True)"
   ]
  },
  {
   "cell_type": "code",
   "execution_count": 18,
   "metadata": {},
   "outputs": [],
   "source": [
    "validacion_data = ImageDataGenerator(\n",
    "rescale = 1./255)"
   ]
  },
  {
   "cell_type": "code",
   "execution_count": null,
   "metadata": {},
   "outputs": [],
   "source": []
  },
  {
   "cell_type": "markdown",
   "metadata": {},
   "source": [
    "#### una vez creados los parametros pasamos crear las imagenes del directorio"
   ]
  },
  {
   "cell_type": "code",
   "execution_count": 19,
   "metadata": {},
   "outputs": [
    {
     "name": "stdout",
     "output_type": "stream",
     "text": [
      "Found 16866 images belonging to 120 classes.\n"
     ]
    }
   ],
   "source": [
    "imagen_entrenamiento = entrenamiento_data.flow_from_directory(entrenamiento, target_size=(altura,longitud),class_mode=\"categorical\")"
   ]
  },
  {
   "cell_type": "code",
   "execution_count": 20,
   "metadata": {},
   "outputs": [
    {
     "name": "stdout",
     "output_type": "stream",
     "text": [
      "Found 3767 images belonging to 120 classes.\n"
     ]
    }
   ],
   "source": [
    "imagen_validacion = validacion_data.flow_from_directory(validacion,target_size=(altura, longitud),batch_size=batch_size, class_mode=\"categorical\")"
   ]
  },
  {
   "cell_type": "code",
   "execution_count": null,
   "metadata": {},
   "outputs": [],
   "source": []
  },
  {
   "cell_type": "markdown",
   "metadata": {},
   "source": [
    "#### Crear nuestra red convolucional CNN"
   ]
  },
  {
   "cell_type": "code",
   "execution_count": 21,
   "metadata": {},
   "outputs": [],
   "source": [
    "cnn = Sequential()"
   ]
  },
  {
   "cell_type": "code",
   "execution_count": 22,
   "metadata": {},
   "outputs": [],
   "source": [
    "cnn.add(Convolution2D(filtro_convolucion1,tamano_filtro1,padding='same',input_shape=(altura,longitud,3),activation=\"relu\"))"
   ]
  },
  {
   "cell_type": "code",
   "execution_count": 23,
   "metadata": {},
   "outputs": [],
   "source": [
    "cnn.add(MaxPooling2D(pool_size=tamano_poolint))"
   ]
  },
  {
   "cell_type": "code",
   "execution_count": 24,
   "metadata": {},
   "outputs": [],
   "source": [
    "cnn.add(Convolution2D(filtro_convolucion2,tamano_filtro2, padding='same', activation='relu'))"
   ]
  },
  {
   "cell_type": "code",
   "execution_count": 25,
   "metadata": {},
   "outputs": [],
   "source": [
    "cnn.add(MaxPooling2D(pool_size=tamano_poolint))"
   ]
  },
  {
   "cell_type": "code",
   "execution_count": 26,
   "metadata": {},
   "outputs": [],
   "source": [
    "cnn.add(Flatten())# se aplana la imagen en una sola dimencion"
   ]
  },
  {
   "cell_type": "code",
   "execution_count": 27,
   "metadata": {},
   "outputs": [],
   "source": [
    "cnn.add(Dense(256,activation='relu'))"
   ]
  },
  {
   "cell_type": "code",
   "execution_count": 28,
   "metadata": {},
   "outputs": [],
   "source": [
    "cnn.add(Dropout(0.25))# consiste en activar en un 0.5 la cantidad de nuestras neuronas durante el tiempo de entrenamiento para ayudar a evitar sobreajuste"
   ]
  },
  {
   "cell_type": "code",
   "execution_count": 29,
   "metadata": {},
   "outputs": [],
   "source": [
    "cnn.add(Dense(clases, activation='softmax'))# esta es la ultima capa se le pasa la cantidad de clases y la funcion softmax"
   ]
  },
  {
   "cell_type": "code",
   "execution_count": 30,
   "metadata": {},
   "outputs": [],
   "source": [
    "cnn.compile(optimizer=optimizers.SGD(lr=grado_aprendizaje), loss='categorical_crossentropy', metrics=['accuracy'])"
   ]
  },
  {
   "cell_type": "code",
   "execution_count": 40,
   "metadata": {},
   "outputs": [
    {
     "name": "stdout",
     "output_type": "stream",
     "text": [
      "_________________________________________________________________\n",
      "Layer (type)                 Output Shape              Param #   \n",
      "=================================================================\n",
      "conv2d (Conv2D)              (None, 100, 100, 32)      896       \n",
      "_________________________________________________________________\n",
      "max_pooling2d (MaxPooling2D) (None, 50, 50, 32)        0         \n",
      "_________________________________________________________________\n",
      "conv2d_1 (Conv2D)            (None, 50, 50, 64)        8256      \n",
      "_________________________________________________________________\n",
      "max_pooling2d_1 (MaxPooling2 (None, 25, 25, 64)        0         \n",
      "_________________________________________________________________\n",
      "flatten (Flatten)            (None, 40000)             0         \n",
      "_________________________________________________________________\n",
      "dense (Dense)                (None, 256)               10240256  \n",
      "_________________________________________________________________\n",
      "dropout (Dropout)            (None, 256)               0         \n",
      "_________________________________________________________________\n",
      "dense_1 (Dense)              (None, 120)               30840     \n",
      "=================================================================\n",
      "Total params: 10,280,248\n",
      "Trainable params: 10,280,248\n",
      "Non-trainable params: 0\n",
      "_________________________________________________________________\n"
     ]
    }
   ],
   "source": [
    "cnn.summary()"
   ]
  },
  {
   "cell_type": "markdown",
   "metadata": {},
   "source": [
    "#### posteriormente parametrizada nuestra red neuronal se procede a entrenar la misma"
   ]
  },
  {
   "cell_type": "code",
   "execution_count": null,
   "metadata": {},
   "outputs": [],
   "source": []
  },
  {
   "cell_type": "code",
   "execution_count": 41,
   "metadata": {},
   "outputs": [],
   "source": [
    "#crear el generador de datos de entrenamiento como parte del preprocesamiendo de imagenes \n",
    "entrenamiento_datagen = ImageDataGenerator(\n",
    "        rescale=1./255,\n",
    "        shear_range=0.2,\n",
    "        zoom_range=0.2,\n",
    "        horizontal_flip=True)\n"
   ]
  },
  {
   "cell_type": "code",
   "execution_count": 42,
   "metadata": {},
   "outputs": [],
   "source": [
    "validacion_datagen = ImageDataGenerator(\n",
    "rescale = 1./255)"
   ]
  },
  {
   "cell_type": "code",
   "execution_count": 43,
   "metadata": {},
   "outputs": [
    {
     "name": "stdout",
     "output_type": "stream",
     "text": [
      "Found 16866 images belonging to 120 classes.\n"
     ]
    }
   ],
   "source": [
    "entrenamiento_generador = entrenamiento_datagen.flow_from_directory(entrenamiento,\n",
    "                                                                   target_size=(100,100),\n",
    "                                                                   batch_size=batch_size,\n",
    "                                                                   class_mode='categorical')"
   ]
  },
  {
   "cell_type": "code",
   "execution_count": 44,
   "metadata": {},
   "outputs": [
    {
     "name": "stdout",
     "output_type": "stream",
     "text": [
      "Found 3767 images belonging to 120 classes.\n"
     ]
    }
   ],
   "source": [
    "validacion_generador = validacion_datagen.flow_from_directory(validacion,\n",
    "                                                              target_size=(100,100),\n",
    "                                                              batch_size=batch_size,\n",
    "                                                              class_mode='categorical')"
   ]
  },
  {
   "cell_type": "code",
   "execution_count": 45,
   "metadata": {},
   "outputs": [],
   "source": [
    "cnn.compile(optimizer=optimizers.SGD(lr=grado_aprendizaje,momentum=0.5), loss='categorical_crossentropy',metrics=['acc'])"
   ]
  },
  {
   "cell_type": "code",
   "execution_count": 46,
   "metadata": {},
   "outputs": [
    {
     "data": {
      "text/plain": [
       "16866"
      ]
     },
     "execution_count": 46,
     "metadata": {},
     "output_type": "execute_result"
    }
   ],
   "source": [
    "len(labels['Raza_id'])"
   ]
  },
  {
   "cell_type": "code",
   "execution_count": null,
   "metadata": {},
   "outputs": [],
   "source": []
  },
  {
   "cell_type": "code",
   "execution_count": 51,
   "metadata": {},
   "outputs": [
    {
     "name": "stdout",
     "output_type": "stream",
     "text": [
      "Epoch 1/25\n",
      "2000/2000 [==============================] - 2463s 1s/step - loss: 4.4956 - acc: 0.0367 - val_loss: 4.2129 - val_acc: 0.0604\n",
      "Epoch 2/25\n",
      "2000/2000 [==============================] - 34280s 17s/step - loss: 4.0396 - acc: 0.0882 - val_loss: 4.0274 - val_acc: 0.0903\n",
      "Epoch 3/25\n",
      "2000/2000 [==============================] - 4283s 2s/step - loss: 3.6814 - acc: 0.1457 - val_loss: 3.9564 - val_acc: 0.1109\n",
      "Epoch 4/25\n",
      "2000/2000 [==============================] - 3734s 2s/step - loss: 3.2673 - acc: 0.2221 - val_loss: 4.0886 - val_acc: 0.1217\n",
      "Epoch 5/25\n",
      "2000/2000 [==============================] - 2074s 1s/step - loss: 2.7979 - acc: 0.3124 - val_loss: 4.2560 - val_acc: 0.1308\n",
      "Epoch 6/25\n",
      "2000/2000 [==============================] - 2273s 1s/step - loss: 2.3274 - acc: 0.4122 - val_loss: 4.5562 - val_acc: 0.1252\n",
      "Epoch 7/25\n",
      "2000/2000 [==============================] - 2119s 1s/step - loss: 1.9227 - acc: 0.5036 - val_loss: 5.0298 - val_acc: 0.1354\n",
      "Epoch 8/25\n",
      "2000/2000 [==============================] - 2032s 1s/step - loss: 1.6004 - acc: 0.5800 - val_loss: 5.4495 - val_acc: 0.1367\n",
      "Epoch 9/25\n",
      "2000/2000 [==============================] - 2042s 1s/step - loss: 1.3625 - acc: 0.6341 - val_loss: 5.8740 - val_acc: 0.1265\n",
      "Epoch 10/25\n",
      "2000/2000 [==============================] - 1997s 998ms/step - loss: 1.1895 - acc: 0.6782 - val_loss: 5.7629 - val_acc: 0.1315\n",
      "Epoch 11/25\n",
      "2000/2000 [==============================] - 1847s 924ms/step - loss: 1.0584 - acc: 0.7110 - val_loss: 6.1052 - val_acc: 0.1297\n",
      "Epoch 12/25\n",
      "2000/2000 [==============================] - 1772s 886ms/step - loss: 0.9742 - acc: 0.7346 - val_loss: 6.2949 - val_acc: 0.1341\n",
      "Epoch 13/25\n",
      "2000/2000 [==============================] - 1600s 800ms/step - loss: 0.8814 - acc: 0.7577 - val_loss: 6.3754 - val_acc: 0.1375\n",
      "Epoch 14/25\n",
      "2000/2000 [==============================] - 1549s 774ms/step - loss: 0.8002 - acc: 0.7774 - val_loss: 6.6819 - val_acc: 0.1334\n",
      "Epoch 15/25\n",
      "2000/2000 [==============================] - 1531s 765ms/step - loss: 0.7436 - acc: 0.7934 - val_loss: 7.3971 - val_acc: 0.1255\n",
      "Epoch 16/25\n",
      "2000/2000 [==============================] - 1557s 778ms/step - loss: 0.6963 - acc: 0.8052 - val_loss: 7.1361 - val_acc: 0.1280\n",
      "Epoch 17/25\n",
      "2000/2000 [==============================] - 1508s 754ms/step - loss: 0.6705 - acc: 0.8134 - val_loss: 7.2887 - val_acc: 0.1225\n",
      "Epoch 18/25\n",
      "2000/2000 [==============================] - 1476s 738ms/step - loss: 0.6392 - acc: 0.8220 - val_loss: 7.6967 - val_acc: 0.1222\n",
      "Epoch 19/25\n",
      "2000/2000 [==============================] - 1503s 752ms/step - loss: 0.6172 - acc: 0.8280 - val_loss: 7.6416 - val_acc: 0.1259\n",
      "Epoch 20/25\n",
      "2000/2000 [==============================] - 1509s 754ms/step - loss: 0.6019 - acc: 0.8320 - val_loss: 7.5045 - val_acc: 0.1242\n",
      "Epoch 21/25\n",
      "2000/2000 [==============================] - 1512s 756ms/step - loss: 0.5617 - acc: 0.8448 - val_loss: 7.4415 - val_acc: 0.1308\n",
      "Epoch 22/25\n",
      "2000/2000 [==============================] - 1899s 950ms/step - loss: 0.5405 - acc: 0.8499 - val_loss: 7.9070 - val_acc: 0.1331\n",
      "Epoch 23/25\n",
      "2000/2000 [==============================] - 1739s 869ms/step - loss: 0.5335 - acc: 0.8523 - val_loss: 8.0737 - val_acc: 0.1262\n",
      "Epoch 24/25\n",
      "2000/2000 [==============================] - 1501s 751ms/step - loss: 0.5146 - acc: 0.8579 - val_loss: 8.0019 - val_acc: 0.1212\n",
      "Epoch 25/25\n",
      "2000/2000 [==============================] - 1471s 735ms/step - loss: 0.5032 - acc: 0.8618 - val_loss: 8.1180 - val_acc: 0.1221\n"
     ]
    },
    {
     "data": {
      "text/plain": [
       "<tensorflow.python.keras.callbacks.History at 0x113810a20>"
      ]
     },
     "execution_count": 51,
     "metadata": {},
     "output_type": "execute_result"
    }
   ],
   "source": [
    "cnn.fit_generator(entrenamiento_generador,\n",
    "                  \n",
    "                epochs=epocas,\n",
    "                steps_per_epoch=pasos, \n",
    "                validation_data=validacion_generador,\n",
    "                validation_steps=pasos_validacion,\n",
    "                  )"
   ]
  },
  {
   "cell_type": "code",
   "execution_count": null,
   "metadata": {
    "scrolled": true
   },
   "outputs": [],
   "source": []
  },
  {
   "cell_type": "code",
   "execution_count": null,
   "metadata": {},
   "outputs": [],
   "source": []
  },
  {
   "cell_type": "code",
   "execution_count": 55,
   "metadata": {},
   "outputs": [],
   "source": [
    "loss_and_metrics = cnn.evaluate_generator(validacion_generador, steps=10)\n",
    "# loss_and_metrics"
   ]
  },
  {
   "cell_type": "code",
   "execution_count": 56,
   "metadata": {},
   "outputs": [],
   "source": [
    "classes = cnn.predict_generator(validacion_generador)"
   ]
  },
  {
   "cell_type": "code",
   "execution_count": 67,
   "metadata": {},
   "outputs": [
    {
     "data": {
      "text/plain": [
       "39"
      ]
     },
     "execution_count": 67,
     "metadata": {},
     "output_type": "execute_result"
    }
   ],
   "source": [
    "np.argmax(classes[5])"
   ]
  },
  {
   "cell_type": "code",
   "execution_count": 71,
   "metadata": {},
   "outputs": [],
   "source": [
    "dir ='./modelo/'\n",
    "if not os.path.exists(dir):\n",
    "    os.mkdir('modelo')\n",
    "cnn.save(dir + 'modelo.h5')\n",
    "cnn.save_weights(dir+ 'pesos.h5')\n",
    "    "
   ]
  },
  {
   "cell_type": "code",
   "execution_count": null,
   "metadata": {},
   "outputs": [],
   "source": []
  }
 ],
 "metadata": {
  "kernelspec": {
   "display_name": "Python 3",
   "language": "python",
   "name": "python3"
  },
  "language_info": {
   "codemirror_mode": {
    "name": "ipython",
    "version": 3
   },
   "file_extension": ".py",
   "mimetype": "text/x-python",
   "name": "python",
   "nbconvert_exporter": "python",
   "pygments_lexer": "ipython3",
   "version": "3.6.5"
  }
 },
 "nbformat": 4,
 "nbformat_minor": 2
}
